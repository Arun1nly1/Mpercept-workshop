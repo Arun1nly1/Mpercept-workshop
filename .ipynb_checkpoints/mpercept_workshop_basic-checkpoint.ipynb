{
 "cells": [
  {
   "cell_type": "code",
   "execution_count": 10,
   "metadata": {},
   "outputs": [
    {
     "name": "stderr",
     "output_type": "stream",
     "text": [
      "Using TensorFlow backend.\n"
     ]
    }
   ],
   "source": [
    "import pandas as pd\n",
    "import numpy as np\n",
    "from sklearn import datasets, linear_model\n",
    "from sklearn.model_selection import train_test_split\n",
    "from matplotlib import pyplot as plt\n",
    "from sklearn.datasets import make_regression\n",
    "from keras.models import Sequential\n",
    "from keras.optimizers import SGD\n",
    "from matplotlib import pyplot\n",
    "from sklearn.preprocessing import StandardScaler\n",
    "from numpy import array\n",
    "from numpy import reshape\n",
    "from keras.layers import Activation, Dense,Dropout"
   ]
  },
  {
   "cell_type": "code",
   "execution_count": null,
   "metadata": {},
   "outputs": [],
   "source": []
  },
  {
   "cell_type": "code",
   "execution_count": 2,
   "metadata": {},
   "outputs": [],
   "source": [
    "df = pd.read_csv(\"titanic_train.csv\")"
   ]
  },
  {
   "cell_type": "code",
   "execution_count": 3,
   "metadata": {},
   "outputs": [
    {
     "data": {
      "text/html": [
       "<div>\n",
       "<style scoped>\n",
       "    .dataframe tbody tr th:only-of-type {\n",
       "        vertical-align: middle;\n",
       "    }\n",
       "\n",
       "    .dataframe tbody tr th {\n",
       "        vertical-align: top;\n",
       "    }\n",
       "\n",
       "    .dataframe thead th {\n",
       "        text-align: right;\n",
       "    }\n",
       "</style>\n",
       "<table border=\"1\" class=\"dataframe\">\n",
       "  <thead>\n",
       "    <tr style=\"text-align: right;\">\n",
       "      <th></th>\n",
       "      <th>PassengerId</th>\n",
       "      <th>Survived</th>\n",
       "      <th>Pclass</th>\n",
       "      <th>Name</th>\n",
       "      <th>Sex</th>\n",
       "      <th>Age</th>\n",
       "      <th>SibSp</th>\n",
       "      <th>Parch</th>\n",
       "      <th>Ticket</th>\n",
       "      <th>Fare</th>\n",
       "      <th>Cabin</th>\n",
       "      <th>Embarked</th>\n",
       "    </tr>\n",
       "  </thead>\n",
       "  <tbody>\n",
       "    <tr>\n",
       "      <td>0</td>\n",
       "      <td>1</td>\n",
       "      <td>0</td>\n",
       "      <td>3</td>\n",
       "      <td>Braund, Mr. Owen Harris</td>\n",
       "      <td>male</td>\n",
       "      <td>22.0</td>\n",
       "      <td>1</td>\n",
       "      <td>0</td>\n",
       "      <td>A/5 21171</td>\n",
       "      <td>7.2500</td>\n",
       "      <td>NaN</td>\n",
       "      <td>S</td>\n",
       "    </tr>\n",
       "    <tr>\n",
       "      <td>1</td>\n",
       "      <td>2</td>\n",
       "      <td>1</td>\n",
       "      <td>1</td>\n",
       "      <td>Cumings, Mrs. John Bradley (Florence Briggs Th...</td>\n",
       "      <td>female</td>\n",
       "      <td>38.0</td>\n",
       "      <td>1</td>\n",
       "      <td>0</td>\n",
       "      <td>PC 17599</td>\n",
       "      <td>71.2833</td>\n",
       "      <td>C85</td>\n",
       "      <td>C</td>\n",
       "    </tr>\n",
       "    <tr>\n",
       "      <td>2</td>\n",
       "      <td>3</td>\n",
       "      <td>1</td>\n",
       "      <td>3</td>\n",
       "      <td>Heikkinen, Miss. Laina</td>\n",
       "      <td>female</td>\n",
       "      <td>26.0</td>\n",
       "      <td>0</td>\n",
       "      <td>0</td>\n",
       "      <td>STON/O2. 3101282</td>\n",
       "      <td>7.9250</td>\n",
       "      <td>NaN</td>\n",
       "      <td>S</td>\n",
       "    </tr>\n",
       "    <tr>\n",
       "      <td>3</td>\n",
       "      <td>4</td>\n",
       "      <td>1</td>\n",
       "      <td>1</td>\n",
       "      <td>Futrelle, Mrs. Jacques Heath (Lily May Peel)</td>\n",
       "      <td>female</td>\n",
       "      <td>35.0</td>\n",
       "      <td>1</td>\n",
       "      <td>0</td>\n",
       "      <td>113803</td>\n",
       "      <td>53.1000</td>\n",
       "      <td>C123</td>\n",
       "      <td>S</td>\n",
       "    </tr>\n",
       "    <tr>\n",
       "      <td>4</td>\n",
       "      <td>5</td>\n",
       "      <td>0</td>\n",
       "      <td>3</td>\n",
       "      <td>Allen, Mr. William Henry</td>\n",
       "      <td>male</td>\n",
       "      <td>35.0</td>\n",
       "      <td>0</td>\n",
       "      <td>0</td>\n",
       "      <td>373450</td>\n",
       "      <td>8.0500</td>\n",
       "      <td>NaN</td>\n",
       "      <td>S</td>\n",
       "    </tr>\n",
       "  </tbody>\n",
       "</table>\n",
       "</div>"
      ],
      "text/plain": [
       "   PassengerId  Survived  Pclass  \\\n",
       "0            1         0       3   \n",
       "1            2         1       1   \n",
       "2            3         1       3   \n",
       "3            4         1       1   \n",
       "4            5         0       3   \n",
       "\n",
       "                                                Name     Sex   Age  SibSp  \\\n",
       "0                            Braund, Mr. Owen Harris    male  22.0      1   \n",
       "1  Cumings, Mrs. John Bradley (Florence Briggs Th...  female  38.0      1   \n",
       "2                             Heikkinen, Miss. Laina  female  26.0      0   \n",
       "3       Futrelle, Mrs. Jacques Heath (Lily May Peel)  female  35.0      1   \n",
       "4                           Allen, Mr. William Henry    male  35.0      0   \n",
       "\n",
       "   Parch            Ticket     Fare Cabin Embarked  \n",
       "0      0         A/5 21171   7.2500   NaN        S  \n",
       "1      0          PC 17599  71.2833   C85        C  \n",
       "2      0  STON/O2. 3101282   7.9250   NaN        S  \n",
       "3      0            113803  53.1000  C123        S  \n",
       "4      0            373450   8.0500   NaN        S  "
      ]
     },
     "execution_count": 3,
     "metadata": {},
     "output_type": "execute_result"
    }
   ],
   "source": [
    "df.head(5)"
   ]
  },
  {
   "cell_type": "code",
   "execution_count": 6,
   "metadata": {},
   "outputs": [
    {
     "data": {
      "text/html": [
       "<div>\n",
       "<style scoped>\n",
       "    .dataframe tbody tr th:only-of-type {\n",
       "        vertical-align: middle;\n",
       "    }\n",
       "\n",
       "    .dataframe tbody tr th {\n",
       "        vertical-align: top;\n",
       "    }\n",
       "\n",
       "    .dataframe thead th {\n",
       "        text-align: right;\n",
       "    }\n",
       "</style>\n",
       "<table border=\"1\" class=\"dataframe\">\n",
       "  <thead>\n",
       "    <tr style=\"text-align: right;\">\n",
       "      <th></th>\n",
       "      <th>PassengerId</th>\n",
       "      <th>Survived</th>\n",
       "      <th>Pclass</th>\n",
       "      <th>Age</th>\n",
       "      <th>SibSp</th>\n",
       "      <th>Parch</th>\n",
       "      <th>Fare</th>\n",
       "    </tr>\n",
       "  </thead>\n",
       "  <tbody>\n",
       "    <tr>\n",
       "      <td>count</td>\n",
       "      <td>891.000000</td>\n",
       "      <td>891.000000</td>\n",
       "      <td>891.000000</td>\n",
       "      <td>714.000000</td>\n",
       "      <td>891.000000</td>\n",
       "      <td>891.000000</td>\n",
       "      <td>891.000000</td>\n",
       "    </tr>\n",
       "    <tr>\n",
       "      <td>mean</td>\n",
       "      <td>446.000000</td>\n",
       "      <td>0.383838</td>\n",
       "      <td>2.308642</td>\n",
       "      <td>29.699118</td>\n",
       "      <td>0.523008</td>\n",
       "      <td>0.381594</td>\n",
       "      <td>32.204208</td>\n",
       "    </tr>\n",
       "    <tr>\n",
       "      <td>std</td>\n",
       "      <td>257.353842</td>\n",
       "      <td>0.486592</td>\n",
       "      <td>0.836071</td>\n",
       "      <td>14.526497</td>\n",
       "      <td>1.102743</td>\n",
       "      <td>0.806057</td>\n",
       "      <td>49.693429</td>\n",
       "    </tr>\n",
       "    <tr>\n",
       "      <td>min</td>\n",
       "      <td>1.000000</td>\n",
       "      <td>0.000000</td>\n",
       "      <td>1.000000</td>\n",
       "      <td>0.420000</td>\n",
       "      <td>0.000000</td>\n",
       "      <td>0.000000</td>\n",
       "      <td>0.000000</td>\n",
       "    </tr>\n",
       "    <tr>\n",
       "      <td>25%</td>\n",
       "      <td>223.500000</td>\n",
       "      <td>0.000000</td>\n",
       "      <td>2.000000</td>\n",
       "      <td>20.125000</td>\n",
       "      <td>0.000000</td>\n",
       "      <td>0.000000</td>\n",
       "      <td>7.910400</td>\n",
       "    </tr>\n",
       "    <tr>\n",
       "      <td>50%</td>\n",
       "      <td>446.000000</td>\n",
       "      <td>0.000000</td>\n",
       "      <td>3.000000</td>\n",
       "      <td>28.000000</td>\n",
       "      <td>0.000000</td>\n",
       "      <td>0.000000</td>\n",
       "      <td>14.454200</td>\n",
       "    </tr>\n",
       "    <tr>\n",
       "      <td>75%</td>\n",
       "      <td>668.500000</td>\n",
       "      <td>1.000000</td>\n",
       "      <td>3.000000</td>\n",
       "      <td>38.000000</td>\n",
       "      <td>1.000000</td>\n",
       "      <td>0.000000</td>\n",
       "      <td>31.000000</td>\n",
       "    </tr>\n",
       "    <tr>\n",
       "      <td>max</td>\n",
       "      <td>891.000000</td>\n",
       "      <td>1.000000</td>\n",
       "      <td>3.000000</td>\n",
       "      <td>80.000000</td>\n",
       "      <td>8.000000</td>\n",
       "      <td>6.000000</td>\n",
       "      <td>512.329200</td>\n",
       "    </tr>\n",
       "  </tbody>\n",
       "</table>\n",
       "</div>"
      ],
      "text/plain": [
       "       PassengerId    Survived      Pclass         Age       SibSp  \\\n",
       "count   891.000000  891.000000  891.000000  714.000000  891.000000   \n",
       "mean    446.000000    0.383838    2.308642   29.699118    0.523008   \n",
       "std     257.353842    0.486592    0.836071   14.526497    1.102743   \n",
       "min       1.000000    0.000000    1.000000    0.420000    0.000000   \n",
       "25%     223.500000    0.000000    2.000000   20.125000    0.000000   \n",
       "50%     446.000000    0.000000    3.000000   28.000000    0.000000   \n",
       "75%     668.500000    1.000000    3.000000   38.000000    1.000000   \n",
       "max     891.000000    1.000000    3.000000   80.000000    8.000000   \n",
       "\n",
       "            Parch        Fare  \n",
       "count  891.000000  891.000000  \n",
       "mean     0.381594   32.204208  \n",
       "std      0.806057   49.693429  \n",
       "min      0.000000    0.000000  \n",
       "25%      0.000000    7.910400  \n",
       "50%      0.000000   14.454200  \n",
       "75%      0.000000   31.000000  \n",
       "max      6.000000  512.329200  "
      ]
     },
     "execution_count": 6,
     "metadata": {},
     "output_type": "execute_result"
    }
   ],
   "source": [
    "df.describe()\n"
   ]
  },
  {
   "cell_type": "code",
   "execution_count": 8,
   "metadata": {},
   "outputs": [
    {
     "data": {
      "text/plain": [
       "PassengerId    False\n",
       "Survived       False\n",
       "Pclass         False\n",
       "Name           False\n",
       "Sex            False\n",
       "Age             True\n",
       "SibSp          False\n",
       "Parch          False\n",
       "Ticket         False\n",
       "Fare           False\n",
       "Cabin           True\n",
       "Embarked        True\n",
       "dtype: bool"
      ]
     },
     "execution_count": 8,
     "metadata": {},
     "output_type": "execute_result"
    }
   ],
   "source": [
    "df.isnull().any()"
   ]
  },
  {
   "cell_type": "code",
   "execution_count": 9,
   "metadata": {},
   "outputs": [
    {
     "data": {
      "text/plain": [
       "(891, 12)"
      ]
     },
     "execution_count": 9,
     "metadata": {},
     "output_type": "execute_result"
    }
   ],
   "source": [
    "df.shape"
   ]
  },
  {
   "cell_type": "code",
   "execution_count": 10,
   "metadata": {},
   "outputs": [
    {
     "data": {
      "text/html": [
       "<div>\n",
       "<style scoped>\n",
       "    .dataframe tbody tr th:only-of-type {\n",
       "        vertical-align: middle;\n",
       "    }\n",
       "\n",
       "    .dataframe tbody tr th {\n",
       "        vertical-align: top;\n",
       "    }\n",
       "\n",
       "    .dataframe thead th {\n",
       "        text-align: right;\n",
       "    }\n",
       "</style>\n",
       "<table border=\"1\" class=\"dataframe\">\n",
       "  <thead>\n",
       "    <tr style=\"text-align: right;\">\n",
       "      <th></th>\n",
       "      <th>PassengerId</th>\n",
       "      <th>Survived</th>\n",
       "      <th>Pclass</th>\n",
       "      <th>Name</th>\n",
       "      <th>Sex</th>\n",
       "      <th>Age</th>\n",
       "      <th>SibSp</th>\n",
       "      <th>Parch</th>\n",
       "      <th>Ticket</th>\n",
       "      <th>Fare</th>\n",
       "      <th>Cabin</th>\n",
       "      <th>Embarked</th>\n",
       "    </tr>\n",
       "  </thead>\n",
       "  <tbody>\n",
       "    <tr>\n",
       "      <td>0</td>\n",
       "      <td>False</td>\n",
       "      <td>False</td>\n",
       "      <td>False</td>\n",
       "      <td>False</td>\n",
       "      <td>False</td>\n",
       "      <td>False</td>\n",
       "      <td>False</td>\n",
       "      <td>False</td>\n",
       "      <td>False</td>\n",
       "      <td>False</td>\n",
       "      <td>True</td>\n",
       "      <td>False</td>\n",
       "    </tr>\n",
       "    <tr>\n",
       "      <td>1</td>\n",
       "      <td>False</td>\n",
       "      <td>False</td>\n",
       "      <td>False</td>\n",
       "      <td>False</td>\n",
       "      <td>False</td>\n",
       "      <td>False</td>\n",
       "      <td>False</td>\n",
       "      <td>False</td>\n",
       "      <td>False</td>\n",
       "      <td>False</td>\n",
       "      <td>False</td>\n",
       "      <td>False</td>\n",
       "    </tr>\n",
       "    <tr>\n",
       "      <td>2</td>\n",
       "      <td>False</td>\n",
       "      <td>False</td>\n",
       "      <td>False</td>\n",
       "      <td>False</td>\n",
       "      <td>False</td>\n",
       "      <td>False</td>\n",
       "      <td>False</td>\n",
       "      <td>False</td>\n",
       "      <td>False</td>\n",
       "      <td>False</td>\n",
       "      <td>True</td>\n",
       "      <td>False</td>\n",
       "    </tr>\n",
       "    <tr>\n",
       "      <td>3</td>\n",
       "      <td>False</td>\n",
       "      <td>False</td>\n",
       "      <td>False</td>\n",
       "      <td>False</td>\n",
       "      <td>False</td>\n",
       "      <td>False</td>\n",
       "      <td>False</td>\n",
       "      <td>False</td>\n",
       "      <td>False</td>\n",
       "      <td>False</td>\n",
       "      <td>False</td>\n",
       "      <td>False</td>\n",
       "    </tr>\n",
       "    <tr>\n",
       "      <td>4</td>\n",
       "      <td>False</td>\n",
       "      <td>False</td>\n",
       "      <td>False</td>\n",
       "      <td>False</td>\n",
       "      <td>False</td>\n",
       "      <td>False</td>\n",
       "      <td>False</td>\n",
       "      <td>False</td>\n",
       "      <td>False</td>\n",
       "      <td>False</td>\n",
       "      <td>True</td>\n",
       "      <td>False</td>\n",
       "    </tr>\n",
       "    <tr>\n",
       "      <td>...</td>\n",
       "      <td>...</td>\n",
       "      <td>...</td>\n",
       "      <td>...</td>\n",
       "      <td>...</td>\n",
       "      <td>...</td>\n",
       "      <td>...</td>\n",
       "      <td>...</td>\n",
       "      <td>...</td>\n",
       "      <td>...</td>\n",
       "      <td>...</td>\n",
       "      <td>...</td>\n",
       "      <td>...</td>\n",
       "    </tr>\n",
       "    <tr>\n",
       "      <td>886</td>\n",
       "      <td>False</td>\n",
       "      <td>False</td>\n",
       "      <td>False</td>\n",
       "      <td>False</td>\n",
       "      <td>False</td>\n",
       "      <td>False</td>\n",
       "      <td>False</td>\n",
       "      <td>False</td>\n",
       "      <td>False</td>\n",
       "      <td>False</td>\n",
       "      <td>True</td>\n",
       "      <td>False</td>\n",
       "    </tr>\n",
       "    <tr>\n",
       "      <td>887</td>\n",
       "      <td>False</td>\n",
       "      <td>False</td>\n",
       "      <td>False</td>\n",
       "      <td>False</td>\n",
       "      <td>False</td>\n",
       "      <td>False</td>\n",
       "      <td>False</td>\n",
       "      <td>False</td>\n",
       "      <td>False</td>\n",
       "      <td>False</td>\n",
       "      <td>False</td>\n",
       "      <td>False</td>\n",
       "    </tr>\n",
       "    <tr>\n",
       "      <td>888</td>\n",
       "      <td>False</td>\n",
       "      <td>False</td>\n",
       "      <td>False</td>\n",
       "      <td>False</td>\n",
       "      <td>False</td>\n",
       "      <td>True</td>\n",
       "      <td>False</td>\n",
       "      <td>False</td>\n",
       "      <td>False</td>\n",
       "      <td>False</td>\n",
       "      <td>True</td>\n",
       "      <td>False</td>\n",
       "    </tr>\n",
       "    <tr>\n",
       "      <td>889</td>\n",
       "      <td>False</td>\n",
       "      <td>False</td>\n",
       "      <td>False</td>\n",
       "      <td>False</td>\n",
       "      <td>False</td>\n",
       "      <td>False</td>\n",
       "      <td>False</td>\n",
       "      <td>False</td>\n",
       "      <td>False</td>\n",
       "      <td>False</td>\n",
       "      <td>False</td>\n",
       "      <td>False</td>\n",
       "    </tr>\n",
       "    <tr>\n",
       "      <td>890</td>\n",
       "      <td>False</td>\n",
       "      <td>False</td>\n",
       "      <td>False</td>\n",
       "      <td>False</td>\n",
       "      <td>False</td>\n",
       "      <td>False</td>\n",
       "      <td>False</td>\n",
       "      <td>False</td>\n",
       "      <td>False</td>\n",
       "      <td>False</td>\n",
       "      <td>True</td>\n",
       "      <td>False</td>\n",
       "    </tr>\n",
       "  </tbody>\n",
       "</table>\n",
       "<p>891 rows × 12 columns</p>\n",
       "</div>"
      ],
      "text/plain": [
       "     PassengerId  Survived  Pclass   Name    Sex    Age  SibSp  Parch  Ticket  \\\n",
       "0          False     False   False  False  False  False  False  False   False   \n",
       "1          False     False   False  False  False  False  False  False   False   \n",
       "2          False     False   False  False  False  False  False  False   False   \n",
       "3          False     False   False  False  False  False  False  False   False   \n",
       "4          False     False   False  False  False  False  False  False   False   \n",
       "..           ...       ...     ...    ...    ...    ...    ...    ...     ...   \n",
       "886        False     False   False  False  False  False  False  False   False   \n",
       "887        False     False   False  False  False  False  False  False   False   \n",
       "888        False     False   False  False  False   True  False  False   False   \n",
       "889        False     False   False  False  False  False  False  False   False   \n",
       "890        False     False   False  False  False  False  False  False   False   \n",
       "\n",
       "      Fare  Cabin  Embarked  \n",
       "0    False   True     False  \n",
       "1    False  False     False  \n",
       "2    False   True     False  \n",
       "3    False  False     False  \n",
       "4    False   True     False  \n",
       "..     ...    ...       ...  \n",
       "886  False   True     False  \n",
       "887  False  False     False  \n",
       "888  False   True     False  \n",
       "889  False  False     False  \n",
       "890  False   True     False  \n",
       "\n",
       "[891 rows x 12 columns]"
      ]
     },
     "execution_count": 10,
     "metadata": {},
     "output_type": "execute_result"
    }
   ],
   "source": [
    "df.isnull()"
   ]
  },
  {
   "cell_type": "code",
   "execution_count": 13,
   "metadata": {},
   "outputs": [
    {
     "name": "stdout",
     "output_type": "stream",
     "text": [
      "Arun Chapagain\n"
     ]
    }
   ],
   "source": [
    "print(\"Arun\"+ \" \"+\"Chapagain\")"
   ]
  },
  {
   "cell_type": "code",
   "execution_count": 15,
   "metadata": {},
   "outputs": [],
   "source": [
    "# List\n",
    "list = [1,2,3]\n"
   ]
  },
  {
   "cell_type": "code",
   "execution_count": 16,
   "metadata": {},
   "outputs": [
    {
     "data": {
      "text/plain": [
       "[1, 2, 3]"
      ]
     },
     "execution_count": 16,
     "metadata": {},
     "output_type": "execute_result"
    }
   ],
   "source": [
    "list"
   ]
  },
  {
   "cell_type": "code",
   "execution_count": 19,
   "metadata": {},
   "outputs": [
    {
     "data": {
      "text/plain": [
       "3"
      ]
     },
     "execution_count": 19,
     "metadata": {},
     "output_type": "execute_result"
    }
   ],
   "source": [
    "list[2]"
   ]
  },
  {
   "cell_type": "code",
   "execution_count": 22,
   "metadata": {},
   "outputs": [
    {
     "data": {
      "text/plain": [
       "[1, 2]"
      ]
     },
     "execution_count": 22,
     "metadata": {},
     "output_type": "execute_result"
    }
   ],
   "source": [
    "list[:-1]"
   ]
  },
  {
   "cell_type": "code",
   "execution_count": 23,
   "metadata": {},
   "outputs": [
    {
     "data": {
      "text/plain": [
       "[3, 2, 1]"
      ]
     },
     "execution_count": 23,
     "metadata": {},
     "output_type": "execute_result"
    }
   ],
   "source": [
    "list[::-1]"
   ]
  },
  {
   "cell_type": "code",
   "execution_count": 24,
   "metadata": {},
   "outputs": [],
   "source": [
    "#tuple immutable\n",
    "tuple = (1,2,3,4,5)"
   ]
  },
  {
   "cell_type": "code",
   "execution_count": 25,
   "metadata": {},
   "outputs": [
    {
     "data": {
      "text/plain": [
       "(1, 2, 3, 4, 5)"
      ]
     },
     "execution_count": 25,
     "metadata": {},
     "output_type": "execute_result"
    }
   ],
   "source": [
    "tuple"
   ]
  },
  {
   "cell_type": "code",
   "execution_count": 26,
   "metadata": {},
   "outputs": [],
   "source": [
    "#dicetionary\n",
    "dict = {\n",
    "    \"name\": \"Arun\",\n",
    "    \"sex\":\"male\"\n",
    "}"
   ]
  },
  {
   "cell_type": "code",
   "execution_count": 27,
   "metadata": {},
   "outputs": [
    {
     "data": {
      "text/plain": [
       "{'name': 'Arun', 'sex': 'male'}"
      ]
     },
     "execution_count": 27,
     "metadata": {},
     "output_type": "execute_result"
    }
   ],
   "source": [
    "dict"
   ]
  },
  {
   "cell_type": "code",
   "execution_count": 28,
   "metadata": {},
   "outputs": [],
   "source": [
    "dict[\"location\"]=\"Pharping\""
   ]
  },
  {
   "cell_type": "code",
   "execution_count": 29,
   "metadata": {},
   "outputs": [
    {
     "data": {
      "text/plain": [
       "{'name': 'Arun', 'sex': 'male', 'location': 'Pharping'}"
      ]
     },
     "execution_count": 29,
     "metadata": {},
     "output_type": "execute_result"
    }
   ],
   "source": [
    "dict"
   ]
  },
  {
   "cell_type": "code",
   "execution_count": 30,
   "metadata": {},
   "outputs": [
    {
     "data": {
      "text/plain": [
       "dict_items([('name', 'Arun'), ('sex', 'male'), ('location', 'Pharping')])"
      ]
     },
     "execution_count": 30,
     "metadata": {},
     "output_type": "execute_result"
    }
   ],
   "source": [
    "dict.items()"
   ]
  },
  {
   "cell_type": "code",
   "execution_count": 31,
   "metadata": {},
   "outputs": [
    {
     "data": {
      "text/plain": [
       "dict_keys(['name', 'sex', 'location'])"
      ]
     },
     "execution_count": 31,
     "metadata": {},
     "output_type": "execute_result"
    }
   ],
   "source": [
    "dict.keys()"
   ]
  },
  {
   "cell_type": "code",
   "execution_count": 32,
   "metadata": {},
   "outputs": [
    {
     "data": {
      "text/plain": [
       "dict_values(['Arun', 'male', 'Pharping'])"
      ]
     },
     "execution_count": 32,
     "metadata": {},
     "output_type": "execute_result"
    }
   ],
   "source": [
    "dict.values()"
   ]
  },
  {
   "cell_type": "code",
   "execution_count": 33,
   "metadata": {},
   "outputs": [
    {
     "name": "stdout",
     "output_type": "stream",
     "text": [
      "name Arun\n",
      "sex male\n",
      "location Pharping\n"
     ]
    }
   ],
   "source": [
    "for key, value in dict.items():\n",
    "    print(key,value)"
   ]
  },
  {
   "cell_type": "code",
   "execution_count": 34,
   "metadata": {},
   "outputs": [
    {
     "name": "stdout",
     "output_type": "stream",
     "text": [
      "No arg\n"
     ]
    }
   ],
   "source": [
    "def func():\n",
    "    print(\"No arg\")\n",
    "    \n",
    "func()\n",
    "    "
   ]
  },
  {
   "cell_type": "code",
   "execution_count": 36,
   "metadata": {},
   "outputs": [
    {
     "name": "stdout",
     "output_type": "stream",
     "text": [
      "Yes\n"
     ]
    }
   ],
   "source": [
    "def func1(arg=\"Yes\"):\n",
    "    print(arg)\n",
    "\n",
    "func1()"
   ]
  },
  {
   "cell_type": "code",
   "execution_count": 41,
   "metadata": {},
   "outputs": [
    {
     "name": "stdout",
     "output_type": "stream",
     "text": [
      "Enter a number5\n",
      "5 is odd\n"
     ]
    }
   ],
   "source": [
    "#String Formatting\n",
    "num = int(input(\"Enter a number\"))\n",
    "\n",
    "if num % 2 ==0:\n",
    "    print(f\"{num} is even\")\n",
    "else:\n",
    "    print(f\"{num} is odd\")"
   ]
  },
  {
   "cell_type": "code",
   "execution_count": 42,
   "metadata": {},
   "outputs": [
    {
     "name": "stdout",
     "output_type": "stream",
     "text": [
      "square of 5 is 25\n"
     ]
    }
   ],
   "source": [
    "print(f\"square of {num} is {num **2}\")"
   ]
  },
  {
   "cell_type": "code",
   "execution_count": 45,
   "metadata": {},
   "outputs": [
    {
     "name": "stdout",
     "output_type": "stream",
     "text": [
      "Name :John Id:1\n"
     ]
    }
   ],
   "source": [
    "class Class1():\n",
    "    def __init__(self):\n",
    "        self.id = 1\n",
    "        self.name = \"John\"\n",
    "        \n",
    "    def show(self):\n",
    "        print(f\"Name :{self.name} Id:{self.id}\")\n",
    "        \n",
    "obj1 = Class1()\n",
    "obj1.show()"
   ]
  },
  {
   "cell_type": "code",
   "execution_count": 54,
   "metadata": {
    "scrolled": true
   },
   "outputs": [
    {
     "name": "stdout",
     "output_type": "stream",
     "text": [
      "Name John\n",
      "Id 1\n"
     ]
    }
   ],
   "source": [
    "class Class2(Class1):\n",
    "    \n",
    "    \n",
    "    def show(self):\n",
    "        print(\"Name\",self.name)\n",
    "        print(\"Id\",self.id)\n",
    "        \n",
    "a = Class2()\n",
    "a.show()"
   ]
  },
  {
   "cell_type": "code",
   "execution_count": 55,
   "metadata": {},
   "outputs": [
    {
     "name": "stdout",
     "output_type": "stream",
     "text": [
      "2019\n"
     ]
    }
   ],
   "source": [
    "class Person:\n",
    "  def __init__(self, fname, lname):\n",
    "    self.firstname = fname\n",
    "    self.lastname = lname\n",
    "\n",
    "  def printname(self):\n",
    "    print(self.firstname, self.lastname)\n",
    "\n",
    "class Student(Person):\n",
    "  def __init__(self, fname, lname, year):\n",
    "    super().__init__(fname, lname)\n",
    "    self.graduationyear = year\n",
    "\n",
    "x = Student(\"Mike\", \"Olsen\", 2019)\n",
    "print(x.graduationyear)\n"
   ]
  },
  {
   "cell_type": "code",
   "execution_count": 5,
   "metadata": {},
   "outputs": [],
   "source": [
    "from evenodd import even_odd as oe\n",
    "# Restart kernel after this\n"
   ]
  },
  {
   "cell_type": "code",
   "execution_count": 6,
   "metadata": {},
   "outputs": [
    {
     "name": "stdout",
     "output_type": "stream",
     "text": [
      "Even\n"
     ]
    }
   ],
   "source": [
    "x = oe(2)"
   ]
  },
  {
   "cell_type": "code",
   "execution_count": 7,
   "metadata": {},
   "outputs": [],
   "source": [
    "# numpy allows us to use array\n",
    "# Numerical Pytho\n"
   ]
  },
  {
   "cell_type": "code",
   "execution_count": 11,
   "metadata": {},
   "outputs": [
    {
     "data": {
      "text/plain": [
       "'1.17.2'"
      ]
     },
     "execution_count": 11,
     "metadata": {},
     "output_type": "execute_result"
    }
   ],
   "source": [
    "np.__version__#To check version\n",
    "#Shift + TAB to read the documentation\n",
    "#TAB shows available functions\n"
   ]
  },
  {
   "cell_type": "code",
   "execution_count": 13,
   "metadata": {},
   "outputs": [],
   "source": [
    "array1 = np.array([1,2,3,4])"
   ]
  },
  {
   "cell_type": "code",
   "execution_count": 14,
   "metadata": {},
   "outputs": [
    {
     "data": {
      "text/plain": [
       "array([1, 2, 3, 4])"
      ]
     },
     "execution_count": 14,
     "metadata": {},
     "output_type": "execute_result"
    }
   ],
   "source": [
    "array1"
   ]
  },
  {
   "cell_type": "code",
   "execution_count": 19,
   "metadata": {},
   "outputs": [
    {
     "data": {
      "text/plain": [
       "array([[0., 0., 0., 0., 0.],\n",
       "       [0., 0., 0., 0., 0.],\n",
       "       [0., 0., 0., 0., 0.],\n",
       "       [0., 0., 0., 0., 0.],\n",
       "       [0., 0., 0., 0., 0.]])"
      ]
     },
     "execution_count": 19,
     "metadata": {},
     "output_type": "execute_result"
    }
   ],
   "source": [
    "zeros = np.zeros([5,5])\n",
    "zeros"
   ]
  },
  {
   "cell_type": "code",
   "execution_count": 20,
   "metadata": {},
   "outputs": [
    {
     "data": {
      "text/plain": [
       "(5, 5)"
      ]
     },
     "execution_count": 20,
     "metadata": {},
     "output_type": "execute_result"
    }
   ],
   "source": [
    "ones = np.ones([5,5])\n",
    "ones\n",
    "ones.shape"
   ]
  },
  {
   "cell_type": "code",
   "execution_count": 24,
   "metadata": {},
   "outputs": [
    {
     "data": {
      "text/plain": [
       "array([[0., 0., 0., 0., 0., 0., 0., 0., 0., 0., 0., 0., 0., 0., 0., 0.,\n",
       "        0., 0., 0., 0., 0., 0., 0., 0., 0.]])"
      ]
     },
     "execution_count": 24,
     "metadata": {},
     "output_type": "execute_result"
    }
   ],
   "source": [
    "zeros.reshape(1,25) #this is 2D"
   ]
  },
  {
   "cell_type": "code",
   "execution_count": 25,
   "metadata": {},
   "outputs": [
    {
     "data": {
      "text/plain": [
       "array([0., 0., 0., 0., 0., 0., 0., 0., 0., 0., 0., 0., 0., 0., 0., 0., 0.,\n",
       "       0., 0., 0., 0., 0., 0., 0., 0.])"
      ]
     },
     "execution_count": 25,
     "metadata": {},
     "output_type": "execute_result"
    }
   ],
   "source": [
    "zeros.reshape(25)#This is 1D"
   ]
  },
  {
   "cell_type": "code",
   "execution_count": 27,
   "metadata": {},
   "outputs": [
    {
     "data": {
      "text/plain": [
       "array([[0.],\n",
       "       [0.],\n",
       "       [0.],\n",
       "       [0.],\n",
       "       [0.],\n",
       "       [0.],\n",
       "       [0.],\n",
       "       [0.],\n",
       "       [0.],\n",
       "       [0.],\n",
       "       [0.],\n",
       "       [0.],\n",
       "       [0.],\n",
       "       [0.],\n",
       "       [0.],\n",
       "       [0.],\n",
       "       [0.],\n",
       "       [0.],\n",
       "       [0.],\n",
       "       [0.],\n",
       "       [0.],\n",
       "       [0.],\n",
       "       [0.],\n",
       "       [0.],\n",
       "       [0.]])"
      ]
     },
     "execution_count": 27,
     "metadata": {},
     "output_type": "execute_result"
    }
   ],
   "source": [
    "zeros.reshape(25,-1)"
   ]
  },
  {
   "cell_type": "code",
   "execution_count": 28,
   "metadata": {},
   "outputs": [
    {
     "data": {
      "text/plain": [
       "array([[0., 0., 0., 0., 0., 0., 0., 0., 0., 0., 0., 0., 0., 0., 0., 0.,\n",
       "        0., 0., 0., 0., 0., 0., 0., 0., 0.]])"
      ]
     },
     "execution_count": 28,
     "metadata": {},
     "output_type": "execute_result"
    }
   ],
   "source": [
    "zeros.reshape(1,-25)"
   ]
  },
  {
   "cell_type": "code",
   "execution_count": 29,
   "metadata": {},
   "outputs": [],
   "source": [
    "repeat = np.repeat(10,100)"
   ]
  },
  {
   "cell_type": "code",
   "execution_count": 30,
   "metadata": {},
   "outputs": [
    {
     "data": {
      "text/plain": [
       "array([10, 10, 10, 10, 10, 10, 10, 10, 10, 10, 10, 10, 10, 10, 10, 10, 10,\n",
       "       10, 10, 10, 10, 10, 10, 10, 10, 10, 10, 10, 10, 10, 10, 10, 10, 10,\n",
       "       10, 10, 10, 10, 10, 10, 10, 10, 10, 10, 10, 10, 10, 10, 10, 10, 10,\n",
       "       10, 10, 10, 10, 10, 10, 10, 10, 10, 10, 10, 10, 10, 10, 10, 10, 10,\n",
       "       10, 10, 10, 10, 10, 10, 10, 10, 10, 10, 10, 10, 10, 10, 10, 10, 10,\n",
       "       10, 10, 10, 10, 10, 10, 10, 10, 10, 10, 10, 10, 10, 10, 10])"
      ]
     },
     "execution_count": 30,
     "metadata": {},
     "output_type": "execute_result"
    }
   ],
   "source": [
    "repeat"
   ]
  },
  {
   "cell_type": "code",
   "execution_count": 31,
   "metadata": {},
   "outputs": [
    {
     "data": {
      "text/plain": [
       "array([[10, 10, 10, 10, 10, 10, 10, 10, 10, 10],\n",
       "       [10, 10, 10, 10, 10, 10, 10, 10, 10, 10],\n",
       "       [10, 10, 10, 10, 10, 10, 10, 10, 10, 10],\n",
       "       [10, 10, 10, 10, 10, 10, 10, 10, 10, 10],\n",
       "       [10, 10, 10, 10, 10, 10, 10, 10, 10, 10],\n",
       "       [10, 10, 10, 10, 10, 10, 10, 10, 10, 10],\n",
       "       [10, 10, 10, 10, 10, 10, 10, 10, 10, 10],\n",
       "       [10, 10, 10, 10, 10, 10, 10, 10, 10, 10],\n",
       "       [10, 10, 10, 10, 10, 10, 10, 10, 10, 10],\n",
       "       [10, 10, 10, 10, 10, 10, 10, 10, 10, 10]])"
      ]
     },
     "execution_count": 31,
     "metadata": {},
     "output_type": "execute_result"
    }
   ],
   "source": [
    "repeat.reshape(10,10)"
   ]
  },
  {
   "cell_type": "code",
   "execution_count": 32,
   "metadata": {},
   "outputs": [
    {
     "data": {
      "text/plain": [
       "array([[10, 10, 10, 10, 10],\n",
       "       [10, 10, 10, 10, 10],\n",
       "       [10, 10, 10, 10, 10],\n",
       "       [10, 10, 10, 10, 10],\n",
       "       [10, 10, 10, 10, 10],\n",
       "       [10, 10, 10, 10, 10],\n",
       "       [10, 10, 10, 10, 10],\n",
       "       [10, 10, 10, 10, 10],\n",
       "       [10, 10, 10, 10, 10],\n",
       "       [10, 10, 10, 10, 10],\n",
       "       [10, 10, 10, 10, 10],\n",
       "       [10, 10, 10, 10, 10],\n",
       "       [10, 10, 10, 10, 10],\n",
       "       [10, 10, 10, 10, 10],\n",
       "       [10, 10, 10, 10, 10],\n",
       "       [10, 10, 10, 10, 10],\n",
       "       [10, 10, 10, 10, 10],\n",
       "       [10, 10, 10, 10, 10],\n",
       "       [10, 10, 10, 10, 10],\n",
       "       [10, 10, 10, 10, 10]])"
      ]
     },
     "execution_count": 32,
     "metadata": {},
     "output_type": "execute_result"
    }
   ],
   "source": [
    "repeat.reshape(-1,5)"
   ]
  },
  {
   "cell_type": "code",
   "execution_count": 34,
   "metadata": {},
   "outputs": [
    {
     "data": {
      "text/plain": [
       "1000"
      ]
     },
     "execution_count": 34,
     "metadata": {},
     "output_type": "execute_result"
    }
   ],
   "source": [
    "sums = np.sum(repeat)\n",
    "sums"
   ]
  },
  {
   "cell_type": "code",
   "execution_count": null,
   "metadata": {},
   "outputs": [],
   "source": [
    "sums = np.sum(repeat)\n",
    "sums"
   ]
  },
  {
   "cell_type": "code",
   "execution_count": 36,
   "metadata": {},
   "outputs": [],
   "source": [
    "mean =np.mean(repeat)"
   ]
  },
  {
   "cell_type": "code",
   "execution_count": 37,
   "metadata": {},
   "outputs": [
    {
     "data": {
      "text/plain": [
       "10.0"
      ]
     },
     "execution_count": 37,
     "metadata": {},
     "output_type": "execute_result"
    }
   ],
   "source": [
    "mean"
   ]
  },
  {
   "cell_type": "code",
   "execution_count": 38,
   "metadata": {},
   "outputs": [],
   "source": [
    "list = [1,2,3,4,5,6]\n",
    "array2 = np.array(list)"
   ]
  },
  {
   "cell_type": "code",
   "execution_count": 39,
   "metadata": {},
   "outputs": [
    {
     "data": {
      "text/plain": [
       "numpy.ndarray"
      ]
     },
     "execution_count": 39,
     "metadata": {},
     "output_type": "execute_result"
    }
   ],
   "source": [
    "type(array2)"
   ]
  },
  {
   "cell_type": "code",
   "execution_count": 40,
   "metadata": {},
   "outputs": [
    {
     "ename": "TypeError",
     "evalue": "unsupported operand type(s) for ** or pow(): 'list' and 'int'",
     "output_type": "error",
     "traceback": [
      "\u001b[0;31m---------------------------------------------------------------------------\u001b[0m",
      "\u001b[0;31mTypeError\u001b[0m                                 Traceback (most recent call last)",
      "\u001b[0;32m<ipython-input-40-5366c1c02854>\u001b[0m in \u001b[0;36m<module>\u001b[0;34m\u001b[0m\n\u001b[0;32m----> 1\u001b[0;31m \u001b[0mlist\u001b[0m \u001b[0;34m**\u001b[0m\u001b[0;36m2\u001b[0m\u001b[0;34m\u001b[0m\u001b[0;34m\u001b[0m\u001b[0m\n\u001b[0m",
      "\u001b[0;31mTypeError\u001b[0m: unsupported operand type(s) for ** or pow(): 'list' and 'int'"
     ]
    }
   ],
   "source": [
    "list **2"
   ]
  },
  {
   "cell_type": "code",
   "execution_count": 41,
   "metadata": {},
   "outputs": [
    {
     "data": {
      "text/plain": [
       "array([ 1,  4,  9, 16, 25, 36])"
      ]
     },
     "execution_count": 41,
     "metadata": {},
     "output_type": "execute_result"
    }
   ],
   "source": [
    "array2**2"
   ]
  },
  {
   "cell_type": "code",
   "execution_count": 42,
   "metadata": {},
   "outputs": [
    {
     "data": {
      "text/plain": [
       "3.141592653589793"
      ]
     },
     "execution_count": 42,
     "metadata": {},
     "output_type": "execute_result"
    }
   ],
   "source": [
    "np.pi #Value of pi"
   ]
  },
  {
   "cell_type": "code",
   "execution_count": 54,
   "metadata": {},
   "outputs": [
    {
     "data": {
      "text/plain": [
       "array([[[[[ 5.36224543e-01,  1.58535435e+00,  2.84581693e-01,\n",
       "            2.02248303e+00, -1.09700070e+00]],\n",
       "\n",
       "         [[ 1.51777200e+00, -1.88371619e-01,  1.00355969e-02,\n",
       "            1.27176773e+00,  1.62174738e-01]],\n",
       "\n",
       "         [[-1.45856917e-01, -1.06342759e+00,  3.47688061e-01,\n",
       "           -9.75560668e-01, -1.89240999e+00]],\n",
       "\n",
       "         [[-1.17672234e-01, -5.36635897e-01,  3.47583249e-01,\n",
       "           -6.46946759e-01,  6.79679701e-01]]],\n",
       "\n",
       "\n",
       "        [[[-1.26978751e-01,  2.20681287e+00, -6.96115325e-01,\n",
       "            5.64360658e-01, -1.58841277e+00]],\n",
       "\n",
       "         [[ 1.78156561e+00,  3.30969489e-01,  8.61509315e-01,\n",
       "           -3.03536454e-01,  2.69879667e-01]],\n",
       "\n",
       "         [[-1.33045957e-02,  5.98790925e-01, -8.83815705e-01,\n",
       "            6.77614550e-01, -9.54091926e-01]],\n",
       "\n",
       "         [[-1.86637907e+00,  4.56533410e-02, -9.55208725e-01,\n",
       "            4.89904744e-01,  1.60575121e+00]]],\n",
       "\n",
       "\n",
       "        [[[-1.40991592e+00,  1.76060769e+00,  6.01730388e-01,\n",
       "           -1.09693236e+00, -1.56598911e+00]],\n",
       "\n",
       "         [[-4.47658403e-01,  3.64816651e-01, -7.86056545e-01,\n",
       "           -1.32712773e-01,  1.46465423e-01]],\n",
       "\n",
       "         [[ 4.55006946e-01,  1.74751186e+00,  8.13719083e-02,\n",
       "           -1.30920134e+00,  1.33508994e+00]],\n",
       "\n",
       "         [[ 1.63295588e+00,  1.26836053e-01,  1.83232134e+00,\n",
       "            1.10953099e+00, -1.10980413e-01]]],\n",
       "\n",
       "\n",
       "        [[[-6.89198106e-03,  1.29627892e+00,  1.43774837e+00,\n",
       "            2.40161346e+00, -6.80537232e-01]],\n",
       "\n",
       "         [[ 1.23632023e+00,  5.26531766e-01, -4.10693759e-01,\n",
       "           -4.66559474e-01,  6.52867994e-02]],\n",
       "\n",
       "         [[-4.26575179e-02, -1.10368268e-01, -6.30583850e-01,\n",
       "            8.31216819e-01, -2.79337352e-01]],\n",
       "\n",
       "         [[ 9.81301779e-01,  2.87797130e-01, -2.23169155e-01,\n",
       "           -2.06725484e-01,  2.93716688e-01]]],\n",
       "\n",
       "\n",
       "        [[[-1.05725496e+00,  3.70760503e-01, -9.54996631e-01,\n",
       "           -6.33289908e-01,  2.01605933e+00]],\n",
       "\n",
       "         [[-1.86278064e-01, -2.42751000e-01, -6.68286410e-01,\n",
       "           -1.08664866e+00, -1.10713572e+00]],\n",
       "\n",
       "         [[ 1.57425349e+00,  2.74331287e-01,  8.90610476e-01,\n",
       "            5.40068626e-01,  1.30450475e+00]],\n",
       "\n",
       "         [[ 1.16234434e+00, -5.28392803e-02, -1.85411326e-01,\n",
       "           -3.08714401e-01,  1.41409188e-01]]]],\n",
       "\n",
       "\n",
       "\n",
       "       [[[[-1.03016768e+00, -2.06264426e+00, -9.43424291e-01,\n",
       "           -1.17805095e+00,  5.52178001e-02]],\n",
       "\n",
       "         [[-1.35744493e-01, -1.07778730e+00,  8.32792324e-01,\n",
       "           -2.62215554e-01,  1.93401130e-01]],\n",
       "\n",
       "         [[-2.00917167e+00, -1.01598292e+00,  3.03778537e+00,\n",
       "           -2.12769023e+00,  9.72371669e-01]],\n",
       "\n",
       "         [[-3.22330844e-01, -1.32596468e+00, -1.87691385e-01,\n",
       "            9.82714049e-01, -3.73580701e-01]]],\n",
       "\n",
       "\n",
       "        [[[ 2.87316192e-01,  1.36520462e+00,  1.23418764e+00,\n",
       "            5.95609613e-01,  2.34403450e-02]],\n",
       "\n",
       "         [[ 2.27951772e+00, -1.49236833e-01,  3.23504401e-01,\n",
       "            3.61193352e-01,  5.68096377e-01]],\n",
       "\n",
       "         [[-5.13136508e-01,  6.41830653e-01, -9.00709168e-01,\n",
       "           -1.45909431e+00, -1.85816407e+00]],\n",
       "\n",
       "         [[ 3.17394340e-01,  5.86774465e-01,  5.97148443e-01,\n",
       "           -8.40895852e-01,  1.63320436e+00]]],\n",
       "\n",
       "\n",
       "        [[[ 4.89499689e-01,  4.63796593e-01,  2.19790961e-01,\n",
       "           -3.95351275e-01,  4.27717451e-01]],\n",
       "\n",
       "         [[-5.42927017e-02,  1.13296728e+00, -3.31318517e-02,\n",
       "           -1.60437606e+00,  2.44055143e+00]],\n",
       "\n",
       "         [[-1.24375703e+00, -4.28106483e-01,  1.02974628e+00,\n",
       "           -9.07341850e-01, -4.79623655e-01]],\n",
       "\n",
       "         [[ 2.99444706e-01, -8.25659791e-01,  5.50545385e-01,\n",
       "           -4.22488305e-01, -2.97381714e-01]]],\n",
       "\n",
       "\n",
       "        [[[ 6.88577901e-01, -3.10007445e-01, -1.29524955e+00,\n",
       "           -1.66258731e+00, -9.63373891e-01]],\n",
       "\n",
       "         [[ 7.38464929e-01,  1.85785220e+00,  4.28772874e-02,\n",
       "            1.49610452e+00, -2.84363915e-01]],\n",
       "\n",
       "         [[ 1.40161605e+00, -1.53233615e+00, -1.00867072e-01,\n",
       "           -5.37917066e-01,  1.15775709e+00]],\n",
       "\n",
       "         [[ 1.16083655e+00,  2.76871605e-01, -1.43553854e+00,\n",
       "            5.82342672e-02,  7.93513633e-01]]],\n",
       "\n",
       "\n",
       "        [[[-1.51690405e+00, -3.47388804e-01, -7.44853041e-01,\n",
       "            9.91538877e-02, -3.98572186e-01]],\n",
       "\n",
       "         [[-1.44913719e+00,  5.24469839e-01,  9.56228567e-01,\n",
       "            1.17249973e+00,  1.70342489e+00]],\n",
       "\n",
       "         [[-2.65534934e+00, -1.09702494e-01, -8.91986623e-01,\n",
       "           -3.06555219e-01,  2.54806810e-01]],\n",
       "\n",
       "         [[ 1.59422330e+00,  5.54970130e-01, -2.87934638e-01,\n",
       "            9.31207439e-01,  1.38801471e+00]]]],\n",
       "\n",
       "\n",
       "\n",
       "       [[[[-1.25735882e+00,  4.38146568e-01, -2.43585773e+00,\n",
       "            6.87904555e-01,  6.77341786e-01]],\n",
       "\n",
       "         [[ 5.29495656e-01,  7.57578502e-01, -5.24284252e-01,\n",
       "            9.57188346e-01, -2.54489583e-03]],\n",
       "\n",
       "         [[-7.08148073e-01,  2.18483028e-01, -1.65687235e+00,\n",
       "            2.51785936e-01,  2.02276606e-01]],\n",
       "\n",
       "         [[ 3.13793316e-01,  3.20081493e-01,  1.01687021e+00,\n",
       "            2.06733547e+00, -1.19262649e-01]]],\n",
       "\n",
       "\n",
       "        [[[-3.91900276e-01,  1.05738581e-01, -3.69137293e-01,\n",
       "           -2.42363853e-01,  5.16944543e-01]],\n",
       "\n",
       "         [[-5.26704678e-01,  7.68181018e-01, -7.41111267e-01,\n",
       "           -5.25459745e-01, -1.61006349e-01]],\n",
       "\n",
       "         [[-1.50773494e+00,  8.93109364e-01,  4.39380499e-01,\n",
       "            1.41019934e+00,  1.29293591e+00]],\n",
       "\n",
       "         [[-1.43004124e-01, -2.12707639e+00, -7.71243272e-01,\n",
       "           -7.30470447e-01, -2.54705031e-01]]],\n",
       "\n",
       "\n",
       "        [[[-1.43370599e-01, -4.14244486e-01,  2.43039630e-01,\n",
       "           -5.58181690e-01,  1.55490337e+00]],\n",
       "\n",
       "         [[ 6.32736849e-01, -8.68823528e-01, -4.68117072e-01,\n",
       "            6.26773407e-01, -9.08327188e-01]],\n",
       "\n",
       "         [[ 6.16252472e-01, -1.27344027e+00, -1.36615630e+00,\n",
       "           -1.36274485e-02,  8.95254856e-01]],\n",
       "\n",
       "         [[ 1.40112834e+00, -3.21659690e-01,  6.49786657e-01,\n",
       "            4.20217633e-01,  2.56757728e-01]]],\n",
       "\n",
       "\n",
       "        [[[ 7.56886119e-01, -1.08453105e+00,  5.36927509e-01,\n",
       "            2.76005562e-01, -8.79550118e-01]],\n",
       "\n",
       "         [[ 9.60331771e-02, -5.34620202e-01, -1.10729360e+00,\n",
       "           -9.14105780e-01, -1.22497203e+00]],\n",
       "\n",
       "         [[-7.88398353e-01, -4.09590206e-01,  4.47749967e-01,\n",
       "            6.96444400e-01, -9.38744738e-01]],\n",
       "\n",
       "         [[ 8.53476380e-01,  3.85038045e-01,  7.64683106e-01,\n",
       "            2.09332494e+00, -1.56076079e+00]]],\n",
       "\n",
       "\n",
       "        [[[-5.96706096e-01, -1.26694014e+00,  8.61759091e-01,\n",
       "           -6.21802982e-01,  7.07625270e-01]],\n",
       "\n",
       "         [[-8.64773505e-01,  9.91935366e-01, -9.00204913e-01,\n",
       "            1.63058960e+00,  8.38456894e-01]],\n",
       "\n",
       "         [[-8.06555798e-01,  1.02108035e+00,  6.04960611e-01,\n",
       "            5.34911863e-01,  1.91655846e+00]],\n",
       "\n",
       "         [[-6.01362269e-02, -2.12705947e+00,  7.19804565e-01,\n",
       "            1.78967410e+00, -2.54130172e-01]]]],\n",
       "\n",
       "\n",
       "\n",
       "       [[[[-9.81915273e-01, -8.82872489e-02,  3.40589624e-01,\n",
       "           -6.17950102e-01,  2.98207855e-01]],\n",
       "\n",
       "         [[-6.63054157e-01, -9.83494444e-03, -9.77037867e-01,\n",
       "           -1.16068537e-01,  2.16156593e-01]],\n",
       "\n",
       "         [[ 4.60346141e-01,  4.63030746e-02, -4.16249718e-01,\n",
       "            1.80660950e+00, -1.78064992e-01]],\n",
       "\n",
       "         [[ 5.35741085e-01, -1.95804156e+00, -6.85419821e-01,\n",
       "            2.27691281e-01, -3.58059671e-01]]],\n",
       "\n",
       "\n",
       "        [[[ 2.23105755e+00, -6.62973718e-01,  6.71888657e-01,\n",
       "            1.41680935e+00,  1.10471976e+00]],\n",
       "\n",
       "         [[-9.58808801e-01, -1.43700801e+00,  2.11333386e-01,\n",
       "            1.93660705e-01,  1.09531110e+00]],\n",
       "\n",
       "         [[ 6.45582629e-01, -1.53459084e-01, -2.19805710e+00,\n",
       "            8.59277877e-01,  2.19302314e-01]],\n",
       "\n",
       "         [[-6.09192158e-01, -5.39455880e-01, -5.98337396e-01,\n",
       "            4.20572511e-01,  2.04339036e-01]]],\n",
       "\n",
       "\n",
       "        [[[-5.69680840e-01,  4.90188899e-01, -6.03797745e-01,\n",
       "            4.43494151e-02,  3.40971338e-01]],\n",
       "\n",
       "         [[ 7.80679872e-01, -4.32993850e-01,  3.02005271e-01,\n",
       "           -7.69972147e-01, -1.67417891e-01]],\n",
       "\n",
       "         [[ 4.18332391e-01, -4.47583050e-01,  2.98641088e-02,\n",
       "            2.48403996e-01, -8.79565317e-01]],\n",
       "\n",
       "         [[ 1.40487437e+00,  7.51414728e-01,  1.16621838e+00,\n",
       "           -1.37810082e+00,  4.64066320e-01]]],\n",
       "\n",
       "\n",
       "        [[[ 9.94566907e-02, -3.58821612e-01,  5.73339177e-01,\n",
       "           -1.05887172e+00,  5.59488239e-01]],\n",
       "\n",
       "         [[ 5.98095622e-01,  9.49647718e-01, -5.88444841e-01,\n",
       "            1.47016373e+00,  1.00412369e-01]],\n",
       "\n",
       "         [[ 1.24155361e+00,  9.68875726e-02, -1.54667596e-01,\n",
       "           -2.00728138e+00,  9.24502900e-01]],\n",
       "\n",
       "         [[-2.47083646e-01, -1.32564006e+00,  8.79907392e-02,\n",
       "            6.09358153e-01,  8.05665832e-01]]],\n",
       "\n",
       "\n",
       "        [[[-2.79298153e-01, -7.49497793e-01,  4.58684421e-01,\n",
       "           -2.12605546e-01, -6.76637092e-01]],\n",
       "\n",
       "         [[ 1.01032115e+00, -3.80572235e-03,  1.53380542e+00,\n",
       "            3.95949000e-02, -1.15831975e+00]],\n",
       "\n",
       "         [[ 3.90275162e-01, -3.75704795e-01, -2.70068435e-01,\n",
       "            5.65766796e-01, -7.26002797e-01]],\n",
       "\n",
       "         [[-1.08545292e+00, -1.22837339e-01, -4.96989854e-02,\n",
       "           -1.20906367e+00,  4.18699220e-01]]]],\n",
       "\n",
       "\n",
       "\n",
       "       [[[[ 1.48111841e+00,  4.94605935e-01, -3.72064574e-01,\n",
       "            4.10497024e-01, -8.48683423e-01]],\n",
       "\n",
       "         [[-5.92522741e-01,  5.24076774e-02, -4.48433837e-01,\n",
       "            2.23629586e+00,  2.06889646e+00]],\n",
       "\n",
       "         [[-1.43899313e+00,  5.66605896e-02, -3.17414868e-01,\n",
       "            1.18414585e+00, -7.73396178e-01]],\n",
       "\n",
       "         [[-1.24540969e+00, -1.57458749e+00,  1.53029822e+00,\n",
       "            1.27602397e-01, -3.19158970e-01]]],\n",
       "\n",
       "\n",
       "        [[[ 5.97529645e-02,  1.23697669e-01,  9.11339347e-01,\n",
       "            1.55645519e-01, -2.05915012e-01]],\n",
       "\n",
       "         [[-8.31710549e-01, -1.31002001e+00,  1.21097801e+00,\n",
       "            1.06608956e+00,  9.17145004e-01]],\n",
       "\n",
       "         [[-7.13303547e-01,  1.63349065e+00, -1.52036309e+00,\n",
       "           -8.09015202e-01,  3.71541424e-01]],\n",
       "\n",
       "         [[-6.59005868e-01,  6.95829402e-01,  4.07114918e-02,\n",
       "            2.67105323e+00, -1.07687398e+00]]],\n",
       "\n",
       "\n",
       "        [[[-1.34113066e-01,  1.68666103e+00,  5.54805174e-02,\n",
       "           -1.11367784e+00,  1.92571629e+00]],\n",
       "\n",
       "         [[-5.51209054e-01, -6.72458817e-01,  4.84013585e-01,\n",
       "            3.47173336e-01,  5.53733676e-01]],\n",
       "\n",
       "         [[-9.90023818e-02, -6.03199689e-01, -1.58466277e+00,\n",
       "           -6.29626101e-01, -3.43924348e-01]],\n",
       "\n",
       "         [[-1.04404878e+00,  3.88492631e-01,  1.27943287e+00,\n",
       "           -2.41775436e-01, -3.00236713e-01]]],\n",
       "\n",
       "\n",
       "        [[[ 3.36915710e-01, -5.55443868e-01,  3.06374115e-01,\n",
       "           -1.11472178e+00,  4.17652293e-01]],\n",
       "\n",
       "         [[-1.48920444e+00, -1.90481786e+00,  1.07652845e-01,\n",
       "            1.30424075e+00,  3.07475117e-01]],\n",
       "\n",
       "         [[ 1.61014466e-03,  7.87257393e-01, -1.01989288e+00,\n",
       "           -4.74477623e-01,  1.24501774e+00]],\n",
       "\n",
       "         [[-5.21842614e-01,  4.76109043e-01,  1.35253338e+00,\n",
       "            3.73848574e-01,  4.14373125e-01]]],\n",
       "\n",
       "\n",
       "        [[[ 7.97832314e-01,  4.63002292e-02,  1.40104797e+00,\n",
       "           -6.79636841e-01,  4.92782229e-01]],\n",
       "\n",
       "         [[-8.30963513e-01, -3.16869951e-01, -1.32367578e+00,\n",
       "           -6.73640866e-01, -3.75050545e-01]],\n",
       "\n",
       "         [[-7.56192779e-01, -1.47282150e+00,  7.21666431e-01,\n",
       "           -5.99177439e-01,  1.02973115e+00]],\n",
       "\n",
       "         [[-2.80539675e-02,  1.45287397e+00,  3.06531963e-01,\n",
       "            6.58243981e-01,  1.20306535e+00]]]]])"
      ]
     },
     "execution_count": 54,
     "metadata": {},
     "output_type": "execute_result"
    }
   ],
   "source": [
    "#Random Number\n",
    "random = np.random.randn(5,5,4,1,5)\n",
    "random\n"
   ]
  },
  {
   "cell_type": "code",
   "execution_count": null,
   "metadata": {},
   "outputs": [],
   "source": [
    "# # generate random integer values\n",
    "# from random import seed\n",
    "# from random import randint\n",
    "# # seed random number generator\n",
    "# seed(1)\n",
    "# # generate some integers\n",
    "# for _ in range(10):\n",
    "#     value = randint(0, 10)\n",
    "#     print(value)"
   ]
  },
  {
   "cell_type": "code",
   "execution_count": 62,
   "metadata": {},
   "outputs": [],
   "source": [
    "from collections import Counter\n"
   ]
  },
  {
   "cell_type": "code",
   "execution_count": 83,
   "metadata": {},
   "outputs": [
    {
     "data": {
      "text/plain": [
       "array([2559, 1264, 3402, 3226, 4118,  932, 2248, 4295, 3024, 1306,  877,\n",
       "       4719, 4669, 4651,  101, 1972, 4677, 4977, 4643, 1457, 3580, 3723,\n",
       "       1937, 1926, 2901, 1586, 1627,  135, 1545,  433, 3864,  708, 1177,\n",
       "       4065, 1810,  166, 2452, 4772, 1053,  185, 1362, 3134,  270, 2219,\n",
       "       2395,  567,  141, 2343, 3987,  618, 4282, 2954, 2771,  439, 2729,\n",
       "       2957,  941, 4480, 3016, 2148, 2438,  570, 3705, 4496,  365, 2201,\n",
       "       3069, 3221, 1881, 1119, 2943, 2239, 4869, 1966, 2975, 3919, 1902,\n",
       "       2417,    5, 1818,  858, 1060,  874, 3484, 2745,  610, 2386, 2918,\n",
       "       1650, 3987, 1708,  802, 3400, 2534, 2703, 3017, 3049, 3342, 1725,\n",
       "        876, 4133, 3838,  155,  740,  668, 1488, 4212, 3078, 3276, 4187,\n",
       "       2802,   86,  117, 1812,   88, 2516, 1708, 4812,   55, 3629, 3546,\n",
       "         57, 2027, 4479, 1763, 1902, 2684,  643, 3499, 4659, 1778,    8,\n",
       "       2627, 4253, 3372, 3625, 1715,  972,  738, 2041, 4667, 2577, 3035,\n",
       "       4466, 3073, 2925, 3031, 1660, 2294, 3827, 3381, 3335,  557, 4502,\n",
       "       4997, 1335, 2277, 2218, 4873, 2779, 3409, 1275, 1061,  740,  466,\n",
       "       4279,   89, 1482, 3852,  609, 2179, 2942,  128, 3395, 4808, 1028,\n",
       "       3098, 2529, 4998, 3266, 1933,  924, 1435, 2888,  341, 2658, 2787,\n",
       "       2840,  328, 1544,   18, 2028, 2062, 1307, 2360, 3639, 3408,  290,\n",
       "       1006,   85, 1254, 3070, 2791, 1893, 2270, 4208, 3605, 4068, 4378,\n",
       "       4001, 2677,   79, 4159,  175, 2941, 4975, 2264, 1984,  323, 1394,\n",
       "       3916,  923, 1625, 3608, 4012, 4991, 2695, 1897, 4349, 1601, 3295,\n",
       "       1808, 3421, 1019, 3256, 1856, 2491,  791,  896, 2111, 4801, 3217,\n",
       "       2077, 4410, 2616, 2817, 2823, 1018, 2440, 1770, 3050, 1401, 4126,\n",
       "       2763, 2511,  153, 3825, 3841,  944,  905, 4119, 1869, 4244, 3188,\n",
       "        920, 4937,  945, 2845, 3507, 2441, 4567,  426, 4906, 3813,  799,\n",
       "          9, 2877, 2147, 4936, 4485, 3895, 2652, 3426,  560, 2226, 4635,\n",
       "       2335, 3167, 3625, 2080, 3742, 4545, 4507,  783, 2289, 2526, 4522,\n",
       "       3310, 3214,   61,  283, 2694, 1374, 4125, 3288, 4451,  113,  637,\n",
       "        215, 3533,  692, 1597,  574, 2653,  705, 3068, 4685, 3912, 2260,\n",
       "       3647,  808,  608, 1316, 3077, 3933,  234, 4481, 1831,  360, 4401,\n",
       "       4572, 4448, 3696, 3955, 4609, 4750, 3441, 3339,  974, 1848,  634,\n",
       "       3888, 1999, 4815,  597, 3534, 4517, 4899, 1775, 3799, 4961, 4497,\n",
       "       3361, 3567, 3847, 1046,  486, 1083,  433, 4302, 3122,  243, 2446,\n",
       "       3947, 3921, 2677, 4034, 3171, 3830, 2198, 1669, 2220, 2025,  388,\n",
       "       2730, 3180, 4871, 3407,   34, 1216, 3396, 2700, 1125,  191, 1159,\n",
       "       3104,  366, 3454, 4764, 2627, 1745,  577,  272, 4999, 3111,  469,\n",
       "        273, 4342, 1056, 2775, 2366, 4884, 1565, 1309, 3521, 3706, 4479,\n",
       "       1714, 2455,  562, 3782, 1498, 1694, 3693,  858, 1462, 3764, 2508,\n",
       "       2431, 4140,  745, 2099,  265, 3966, 2632, 3217,  289, 1978, 1185,\n",
       "        618, 3630, 2813, 2273, 4884,  882, 2396, 1768, 1334, 4216,  402,\n",
       "       1612,  153, 3710,  337, 3499, 3920,  140, 3038, 3697,  525, 4733,\n",
       "       4945, 1382,  380, 3906, 1684, 4461, 2145, 3566, 1821,  700, 1464,\n",
       "       4019, 3792, 2570, 1290,  890, 1977, 3381, 3719, 3858, 2445, 1366,\n",
       "        666, 2529, 3905, 3706, 3506, 1200, 4620, 1709, 2114, 4637, 3627,\n",
       "       2553, 4365,  324, 1084, 3001, 4579, 1771,  553, 4448, 4991,   48,\n",
       "        679,  897, 3843, 3925, 3696])"
      ]
     },
     "execution_count": 83,
     "metadata": {},
     "output_type": "execute_result"
    }
   ],
   "source": [
    "integers = np.random.randint(5,5000,500)\n",
    "integers"
   ]
  },
  {
   "cell_type": "code",
   "execution_count": 84,
   "metadata": {},
   "outputs": [],
   "source": [
    "counts = Counter(integers)"
   ]
  },
  {
   "cell_type": "code",
   "execution_count": 85,
   "metadata": {},
   "outputs": [
    {
     "data": {
      "text/plain": [
       "Counter({2559: 1,\n",
       "         1264: 1,\n",
       "         3402: 1,\n",
       "         3226: 1,\n",
       "         4118: 1,\n",
       "         932: 1,\n",
       "         2248: 1,\n",
       "         4295: 1,\n",
       "         3024: 1,\n",
       "         1306: 1,\n",
       "         877: 1,\n",
       "         4719: 1,\n",
       "         4669: 1,\n",
       "         4651: 1,\n",
       "         101: 1,\n",
       "         1972: 1,\n",
       "         4677: 1,\n",
       "         4977: 1,\n",
       "         4643: 1,\n",
       "         1457: 1,\n",
       "         3580: 1,\n",
       "         3723: 1,\n",
       "         1937: 1,\n",
       "         1926: 1,\n",
       "         2901: 1,\n",
       "         1586: 1,\n",
       "         1627: 1,\n",
       "         135: 1,\n",
       "         1545: 1,\n",
       "         433: 2,\n",
       "         3864: 1,\n",
       "         708: 1,\n",
       "         1177: 1,\n",
       "         4065: 1,\n",
       "         1810: 1,\n",
       "         166: 1,\n",
       "         2452: 1,\n",
       "         4772: 1,\n",
       "         1053: 1,\n",
       "         185: 1,\n",
       "         1362: 1,\n",
       "         3134: 1,\n",
       "         270: 1,\n",
       "         2219: 1,\n",
       "         2395: 1,\n",
       "         567: 1,\n",
       "         141: 1,\n",
       "         2343: 1,\n",
       "         3987: 2,\n",
       "         618: 2,\n",
       "         4282: 1,\n",
       "         2954: 1,\n",
       "         2771: 1,\n",
       "         439: 1,\n",
       "         2729: 1,\n",
       "         2957: 1,\n",
       "         941: 1,\n",
       "         4480: 1,\n",
       "         3016: 1,\n",
       "         2148: 1,\n",
       "         2438: 1,\n",
       "         570: 1,\n",
       "         3705: 1,\n",
       "         4496: 1,\n",
       "         365: 1,\n",
       "         2201: 1,\n",
       "         3069: 1,\n",
       "         3221: 1,\n",
       "         1881: 1,\n",
       "         1119: 1,\n",
       "         2943: 1,\n",
       "         2239: 1,\n",
       "         4869: 1,\n",
       "         1966: 1,\n",
       "         2975: 1,\n",
       "         3919: 1,\n",
       "         1902: 2,\n",
       "         2417: 1,\n",
       "         5: 1,\n",
       "         1818: 1,\n",
       "         858: 2,\n",
       "         1060: 1,\n",
       "         874: 1,\n",
       "         3484: 1,\n",
       "         2745: 1,\n",
       "         610: 1,\n",
       "         2386: 1,\n",
       "         2918: 1,\n",
       "         1650: 1,\n",
       "         1708: 2,\n",
       "         802: 1,\n",
       "         3400: 1,\n",
       "         2534: 1,\n",
       "         2703: 1,\n",
       "         3017: 1,\n",
       "         3049: 1,\n",
       "         3342: 1,\n",
       "         1725: 1,\n",
       "         876: 1,\n",
       "         4133: 1,\n",
       "         3838: 1,\n",
       "         155: 1,\n",
       "         740: 2,\n",
       "         668: 1,\n",
       "         1488: 1,\n",
       "         4212: 1,\n",
       "         3078: 1,\n",
       "         3276: 1,\n",
       "         4187: 1,\n",
       "         2802: 1,\n",
       "         86: 1,\n",
       "         117: 1,\n",
       "         1812: 1,\n",
       "         88: 1,\n",
       "         2516: 1,\n",
       "         4812: 1,\n",
       "         55: 1,\n",
       "         3629: 1,\n",
       "         3546: 1,\n",
       "         57: 1,\n",
       "         2027: 1,\n",
       "         4479: 2,\n",
       "         1763: 1,\n",
       "         2684: 1,\n",
       "         643: 1,\n",
       "         3499: 2,\n",
       "         4659: 1,\n",
       "         1778: 1,\n",
       "         8: 1,\n",
       "         2627: 2,\n",
       "         4253: 1,\n",
       "         3372: 1,\n",
       "         3625: 2,\n",
       "         1715: 1,\n",
       "         972: 1,\n",
       "         738: 1,\n",
       "         2041: 1,\n",
       "         4667: 1,\n",
       "         2577: 1,\n",
       "         3035: 1,\n",
       "         4466: 1,\n",
       "         3073: 1,\n",
       "         2925: 1,\n",
       "         3031: 1,\n",
       "         1660: 1,\n",
       "         2294: 1,\n",
       "         3827: 1,\n",
       "         3381: 2,\n",
       "         3335: 1,\n",
       "         557: 1,\n",
       "         4502: 1,\n",
       "         4997: 1,\n",
       "         1335: 1,\n",
       "         2277: 1,\n",
       "         2218: 1,\n",
       "         4873: 1,\n",
       "         2779: 1,\n",
       "         3409: 1,\n",
       "         1275: 1,\n",
       "         1061: 1,\n",
       "         466: 1,\n",
       "         4279: 1,\n",
       "         89: 1,\n",
       "         1482: 1,\n",
       "         3852: 1,\n",
       "         609: 1,\n",
       "         2179: 1,\n",
       "         2942: 1,\n",
       "         128: 1,\n",
       "         3395: 1,\n",
       "         4808: 1,\n",
       "         1028: 1,\n",
       "         3098: 1,\n",
       "         2529: 2,\n",
       "         4998: 1,\n",
       "         3266: 1,\n",
       "         1933: 1,\n",
       "         924: 1,\n",
       "         1435: 1,\n",
       "         2888: 1,\n",
       "         341: 1,\n",
       "         2658: 1,\n",
       "         2787: 1,\n",
       "         2840: 1,\n",
       "         328: 1,\n",
       "         1544: 1,\n",
       "         18: 1,\n",
       "         2028: 1,\n",
       "         2062: 1,\n",
       "         1307: 1,\n",
       "         2360: 1,\n",
       "         3639: 1,\n",
       "         3408: 1,\n",
       "         290: 1,\n",
       "         1006: 1,\n",
       "         85: 1,\n",
       "         1254: 1,\n",
       "         3070: 1,\n",
       "         2791: 1,\n",
       "         1893: 1,\n",
       "         2270: 1,\n",
       "         4208: 1,\n",
       "         3605: 1,\n",
       "         4068: 1,\n",
       "         4378: 1,\n",
       "         4001: 1,\n",
       "         2677: 2,\n",
       "         79: 1,\n",
       "         4159: 1,\n",
       "         175: 1,\n",
       "         2941: 1,\n",
       "         4975: 1,\n",
       "         2264: 1,\n",
       "         1984: 1,\n",
       "         323: 1,\n",
       "         1394: 1,\n",
       "         3916: 1,\n",
       "         923: 1,\n",
       "         1625: 1,\n",
       "         3608: 1,\n",
       "         4012: 1,\n",
       "         4991: 2,\n",
       "         2695: 1,\n",
       "         1897: 1,\n",
       "         4349: 1,\n",
       "         1601: 1,\n",
       "         3295: 1,\n",
       "         1808: 1,\n",
       "         3421: 1,\n",
       "         1019: 1,\n",
       "         3256: 1,\n",
       "         1856: 1,\n",
       "         2491: 1,\n",
       "         791: 1,\n",
       "         896: 1,\n",
       "         2111: 1,\n",
       "         4801: 1,\n",
       "         3217: 2,\n",
       "         2077: 1,\n",
       "         4410: 1,\n",
       "         2616: 1,\n",
       "         2817: 1,\n",
       "         2823: 1,\n",
       "         1018: 1,\n",
       "         2440: 1,\n",
       "         1770: 1,\n",
       "         3050: 1,\n",
       "         1401: 1,\n",
       "         4126: 1,\n",
       "         2763: 1,\n",
       "         2511: 1,\n",
       "         153: 2,\n",
       "         3825: 1,\n",
       "         3841: 1,\n",
       "         944: 1,\n",
       "         905: 1,\n",
       "         4119: 1,\n",
       "         1869: 1,\n",
       "         4244: 1,\n",
       "         3188: 1,\n",
       "         920: 1,\n",
       "         4937: 1,\n",
       "         945: 1,\n",
       "         2845: 1,\n",
       "         3507: 1,\n",
       "         2441: 1,\n",
       "         4567: 1,\n",
       "         426: 1,\n",
       "         4906: 1,\n",
       "         3813: 1,\n",
       "         799: 1,\n",
       "         9: 1,\n",
       "         2877: 1,\n",
       "         2147: 1,\n",
       "         4936: 1,\n",
       "         4485: 1,\n",
       "         3895: 1,\n",
       "         2652: 1,\n",
       "         3426: 1,\n",
       "         560: 1,\n",
       "         2226: 1,\n",
       "         4635: 1,\n",
       "         2335: 1,\n",
       "         3167: 1,\n",
       "         2080: 1,\n",
       "         3742: 1,\n",
       "         4545: 1,\n",
       "         4507: 1,\n",
       "         783: 1,\n",
       "         2289: 1,\n",
       "         2526: 1,\n",
       "         4522: 1,\n",
       "         3310: 1,\n",
       "         3214: 1,\n",
       "         61: 1,\n",
       "         283: 1,\n",
       "         2694: 1,\n",
       "         1374: 1,\n",
       "         4125: 1,\n",
       "         3288: 1,\n",
       "         4451: 1,\n",
       "         113: 1,\n",
       "         637: 1,\n",
       "         215: 1,\n",
       "         3533: 1,\n",
       "         692: 1,\n",
       "         1597: 1,\n",
       "         574: 1,\n",
       "         2653: 1,\n",
       "         705: 1,\n",
       "         3068: 1,\n",
       "         4685: 1,\n",
       "         3912: 1,\n",
       "         2260: 1,\n",
       "         3647: 1,\n",
       "         808: 1,\n",
       "         608: 1,\n",
       "         1316: 1,\n",
       "         3077: 1,\n",
       "         3933: 1,\n",
       "         234: 1,\n",
       "         4481: 1,\n",
       "         1831: 1,\n",
       "         360: 1,\n",
       "         4401: 1,\n",
       "         4572: 1,\n",
       "         4448: 2,\n",
       "         3696: 2,\n",
       "         3955: 1,\n",
       "         4609: 1,\n",
       "         4750: 1,\n",
       "         3441: 1,\n",
       "         3339: 1,\n",
       "         974: 1,\n",
       "         1848: 1,\n",
       "         634: 1,\n",
       "         3888: 1,\n",
       "         1999: 1,\n",
       "         4815: 1,\n",
       "         597: 1,\n",
       "         3534: 1,\n",
       "         4517: 1,\n",
       "         4899: 1,\n",
       "         1775: 1,\n",
       "         3799: 1,\n",
       "         4961: 1,\n",
       "         4497: 1,\n",
       "         3361: 1,\n",
       "         3567: 1,\n",
       "         3847: 1,\n",
       "         1046: 1,\n",
       "         486: 1,\n",
       "         1083: 1,\n",
       "         4302: 1,\n",
       "         3122: 1,\n",
       "         243: 1,\n",
       "         2446: 1,\n",
       "         3947: 1,\n",
       "         3921: 1,\n",
       "         4034: 1,\n",
       "         3171: 1,\n",
       "         3830: 1,\n",
       "         2198: 1,\n",
       "         1669: 1,\n",
       "         2220: 1,\n",
       "         2025: 1,\n",
       "         388: 1,\n",
       "         2730: 1,\n",
       "         3180: 1,\n",
       "         4871: 1,\n",
       "         3407: 1,\n",
       "         34: 1,\n",
       "         1216: 1,\n",
       "         3396: 1,\n",
       "         2700: 1,\n",
       "         1125: 1,\n",
       "         191: 1,\n",
       "         1159: 1,\n",
       "         3104: 1,\n",
       "         366: 1,\n",
       "         3454: 1,\n",
       "         4764: 1,\n",
       "         1745: 1,\n",
       "         577: 1,\n",
       "         272: 1,\n",
       "         4999: 1,\n",
       "         3111: 1,\n",
       "         469: 1,\n",
       "         273: 1,\n",
       "         4342: 1,\n",
       "         1056: 1,\n",
       "         2775: 1,\n",
       "         2366: 1,\n",
       "         4884: 2,\n",
       "         1565: 1,\n",
       "         1309: 1,\n",
       "         3521: 1,\n",
       "         3706: 2,\n",
       "         1714: 1,\n",
       "         2455: 1,\n",
       "         562: 1,\n",
       "         3782: 1,\n",
       "         1498: 1,\n",
       "         1694: 1,\n",
       "         3693: 1,\n",
       "         1462: 1,\n",
       "         3764: 1,\n",
       "         2508: 1,\n",
       "         2431: 1,\n",
       "         4140: 1,\n",
       "         745: 1,\n",
       "         2099: 1,\n",
       "         265: 1,\n",
       "         3966: 1,\n",
       "         2632: 1,\n",
       "         289: 1,\n",
       "         1978: 1,\n",
       "         1185: 1,\n",
       "         3630: 1,\n",
       "         2813: 1,\n",
       "         2273: 1,\n",
       "         882: 1,\n",
       "         2396: 1,\n",
       "         1768: 1,\n",
       "         1334: 1,\n",
       "         4216: 1,\n",
       "         402: 1,\n",
       "         1612: 1,\n",
       "         3710: 1,\n",
       "         337: 1,\n",
       "         3920: 1,\n",
       "         140: 1,\n",
       "         3038: 1,\n",
       "         3697: 1,\n",
       "         525: 1,\n",
       "         4733: 1,\n",
       "         4945: 1,\n",
       "         1382: 1,\n",
       "         380: 1,\n",
       "         3906: 1,\n",
       "         1684: 1,\n",
       "         4461: 1,\n",
       "         2145: 1,\n",
       "         3566: 1,\n",
       "         1821: 1,\n",
       "         700: 1,\n",
       "         1464: 1,\n",
       "         4019: 1,\n",
       "         3792: 1,\n",
       "         2570: 1,\n",
       "         1290: 1,\n",
       "         890: 1,\n",
       "         1977: 1,\n",
       "         3719: 1,\n",
       "         3858: 1,\n",
       "         2445: 1,\n",
       "         1366: 1,\n",
       "         666: 1,\n",
       "         3905: 1,\n",
       "         3506: 1,\n",
       "         1200: 1,\n",
       "         4620: 1,\n",
       "         1709: 1,\n",
       "         2114: 1,\n",
       "         4637: 1,\n",
       "         3627: 1,\n",
       "         2553: 1,\n",
       "         4365: 1,\n",
       "         324: 1,\n",
       "         1084: 1,\n",
       "         3001: 1,\n",
       "         4579: 1,\n",
       "         1771: 1,\n",
       "         553: 1,\n",
       "         48: 1,\n",
       "         679: 1,\n",
       "         897: 1,\n",
       "         3843: 1,\n",
       "         3925: 1})"
      ]
     },
     "execution_count": 85,
     "metadata": {},
     "output_type": "execute_result"
    }
   ],
   "source": [
    "counts"
   ]
  },
  {
   "cell_type": "code",
   "execution_count": 86,
   "metadata": {},
   "outputs": [
    {
     "data": {
      "text/plain": [
       "479"
      ]
     },
     "execution_count": 86,
     "metadata": {},
     "output_type": "execute_result"
    }
   ],
   "source": [
    "len(counts)"
   ]
  },
  {
   "cell_type": "code",
   "execution_count": 87,
   "metadata": {},
   "outputs": [],
   "source": [
    "# List\n",
    "l1 = []\n",
    "l1.append(1)"
   ]
  },
  {
   "cell_type": "code",
   "execution_count": 88,
   "metadata": {},
   "outputs": [
    {
     "data": {
      "text/plain": [
       "[1]"
      ]
     },
     "execution_count": 88,
     "metadata": {},
     "output_type": "execute_result"
    }
   ],
   "source": [
    "l1"
   ]
  },
  {
   "cell_type": "code",
   "execution_count": 89,
   "metadata": {},
   "outputs": [],
   "source": [
    "del l1[0]"
   ]
  },
  {
   "cell_type": "code",
   "execution_count": 90,
   "metadata": {},
   "outputs": [
    {
     "data": {
      "text/plain": [
       "[]"
      ]
     },
     "execution_count": 90,
     "metadata": {},
     "output_type": "execute_result"
    }
   ],
   "source": [
    "l1\n"
   ]
  },
  {
   "cell_type": "code",
   "execution_count": 91,
   "metadata": {},
   "outputs": [],
   "source": [
    "\n",
    "l1 = [1,2,3,4,[1,2,3]]"
   ]
  },
  {
   "cell_type": "code",
   "execution_count": 92,
   "metadata": {},
   "outputs": [
    {
     "data": {
      "text/plain": [
       "[1, 2, 3, 4, [1, 2, 3]]"
      ]
     },
     "execution_count": 92,
     "metadata": {},
     "output_type": "execute_result"
    }
   ],
   "source": [
    "l1"
   ]
  },
  {
   "cell_type": "code",
   "execution_count": 95,
   "metadata": {},
   "outputs": [],
   "source": [
    "# Tuple\n",
    "t1= (1,2,3)\n"
   ]
  },
  {
   "cell_type": "markdown",
   "metadata": {},
   "source": [
    "t1"
   ]
  },
  {
   "cell_type": "code",
   "execution_count": 96,
   "metadata": {},
   "outputs": [
    {
     "data": {
      "text/plain": [
       "(1, 2, 3)"
      ]
     },
     "execution_count": 96,
     "metadata": {},
     "output_type": "execute_result"
    }
   ],
   "source": [
    "t1"
   ]
  },
  {
   "cell_type": "code",
   "execution_count": 97,
   "metadata": {},
   "outputs": [],
   "source": [
    "# Tuple cannot be edited\n",
    "# Original data change nahos bhanera tuple banainxa\n"
   ]
  },
  {
   "cell_type": "code",
   "execution_count": 102,
   "metadata": {},
   "outputs": [],
   "source": [
    "# dictionary\n",
    "d1 = {}\n",
    "d1[1]=\"Nepal\"\n",
    "d1[2]=\"china\""
   ]
  },
  {
   "cell_type": "code",
   "execution_count": 103,
   "metadata": {},
   "outputs": [
    {
     "data": {
      "text/plain": [
       "{1: 'Nepal', 2: 'china'}"
      ]
     },
     "execution_count": 103,
     "metadata": {},
     "output_type": "execute_result"
    }
   ],
   "source": [
    "d1"
   ]
  },
  {
   "cell_type": "code",
   "execution_count": 112,
   "metadata": {},
   "outputs": [
    {
     "data": {
      "text/plain": [
       "dict_keys([1, 2])"
      ]
     },
     "execution_count": 112,
     "metadata": {},
     "output_type": "execute_result"
    }
   ],
   "source": [
    "d1.keys()"
   ]
  },
  {
   "cell_type": "code",
   "execution_count": 110,
   "metadata": {},
   "outputs": [],
   "source": [
    "l1 = [1,2,3,4,5,6]\n",
    "l1 = np.array(l1,dtype = np.float)"
   ]
  },
  {
   "cell_type": "code",
   "execution_count": 111,
   "metadata": {},
   "outputs": [
    {
     "data": {
      "text/plain": [
       "array([1., 2., 3., 4., 5., 6.])"
      ]
     },
     "execution_count": 111,
     "metadata": {},
     "output_type": "execute_result"
    }
   ],
   "source": [
    "l1"
   ]
  },
  {
   "cell_type": "code",
   "execution_count": null,
   "metadata": {},
   "outputs": [],
   "source": []
  }
 ],
 "metadata": {
  "kernelspec": {
   "display_name": "Python 3",
   "language": "python",
   "name": "python3"
  },
  "language_info": {
   "codemirror_mode": {
    "name": "ipython",
    "version": 3
   },
   "file_extension": ".py",
   "mimetype": "text/x-python",
   "name": "python",
   "nbconvert_exporter": "python",
   "pygments_lexer": "ipython3",
   "version": "3.7.4"
  }
 },
 "nbformat": 4,
 "nbformat_minor": 2
}
